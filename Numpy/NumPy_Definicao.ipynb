{
 "metadata": {
  "language_info": {
   "codemirror_mode": {
    "name": "ipython",
    "version": 3
   },
   "file_extension": ".py",
   "mimetype": "text/x-python",
   "name": "python",
   "nbconvert_exporter": "python",
   "pygments_lexer": "ipython3",
   "version": "3.7.6"
  },
  "orig_nbformat": 2,
  "kernelspec": {
   "name": "python376jvsc74a57bd0067989bdc79366ae4b9c5041307ac419d81e7c1d7c4d311edf737394c9f28bbe",
   "display_name": "Python 3.7.6 64-bit (conda)"
  }
 },
 "nbformat": 4,
 "nbformat_minor": 2,
 "cells": [
  {
   "source": [
    "# O que e a biblioteca Numpy?"
   ],
   "cell_type": "markdown",
   "metadata": {}
  },
  {
   "source": [
    "- Uma biblioteca do Python que permite trabalhar com matriz e arranjos multidimensionais desde pequenos até muito grandes.\n",
    "\n",
    "- Criado em 2005 por Travis Oliphant, atualmente está na versão numpy 1.20.2(21/04/2021).\n",
    "- Possui uma coleção de alto nível de funções matemática para processar estes arranjos.\n"
   ],
   "cell_type": "markdown",
   "metadata": {}
  },
  {
   "source": [
    "<center><img src=\"https://raw.githubusercontent.com/paulocesarcsdev/Data_Science_Tools/master/Numpy/img/1.png\"><center/>"
   ],
   "cell_type": "markdown",
   "metadata": {}
  },
  {
   "source": [
    "<center><img src=\"https://raw.githubusercontent.com/paulocesarcsdev/Data_Science_Tools/master/Numpy/img/1D_Array.png\"><center/>"
   ],
   "cell_type": "markdown",
   "metadata": {}
  },
  {
   "source": [
    "- shape:(linha,)"
   ],
   "cell_type": "markdown",
   "metadata": {}
  },
  {
   "source": [
    "<center><img src=\"https://raw.githubusercontent.com/paulocesarcsdev/Data_Science_Tools/master/Numpy/img/2D_Array.png\"><center/>"
   ],
   "cell_type": "markdown",
   "metadata": {}
  },
  {
   "source": [
    "- shape:(linha, coluna)"
   ],
   "cell_type": "markdown",
   "metadata": {}
  },
  {
   "source": [
    "<center><img src=\"https://raw.githubusercontent.com/paulocesarcsdev/Data_Science_Tools/master/Numpy/img/3D_Array.png\"><center/>"
   ],
   "cell_type": "markdown",
   "metadata": {}
  },
  {
   "source": [
    "- shape:(axis0,axis1,axis2)"
   ],
   "cell_type": "markdown",
   "metadata": {}
  },
  {
   "cell_type": "code",
   "execution_count": null,
   "metadata": {},
   "outputs": [],
   "source": []
  }
 ]
}